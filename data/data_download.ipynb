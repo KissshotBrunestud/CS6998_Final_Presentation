{
 "cells": [
  {
   "cell_type": "code",
   "execution_count": 1,
   "metadata": {},
   "outputs": [
    {
     "ename": "ModuleNotFoundError",
     "evalue": "No module named 'requests'",
     "output_type": "error",
     "traceback": [
      "\u001b[0;31m---------------------------------------------------------------------------\u001b[0m",
      "\u001b[0;31mModuleNotFoundError\u001b[0m                       Traceback (most recent call last)",
      "\u001b[0;32m/tmp/ipykernel_30806/2094132573.py\u001b[0m in \u001b[0;36m<module>\u001b[0;34m\u001b[0m\n\u001b[1;32m      1\u001b[0m \u001b[0;32mimport\u001b[0m \u001b[0mre\u001b[0m\u001b[0;34m\u001b[0m\u001b[0;34m\u001b[0m\u001b[0m\n\u001b[0;32m----> 2\u001b[0;31m \u001b[0;32mimport\u001b[0m \u001b[0mrequests\u001b[0m\u001b[0;34m\u001b[0m\u001b[0;34m\u001b[0m\u001b[0m\n\u001b[0m\u001b[1;32m      3\u001b[0m \u001b[0;32mfrom\u001b[0m \u001b[0mbs4\u001b[0m \u001b[0;32mimport\u001b[0m \u001b[0mBeautifulSoup\u001b[0m\u001b[0;34m\u001b[0m\u001b[0;34m\u001b[0m\u001b[0m\n\u001b[1;32m      4\u001b[0m \u001b[0;32mimport\u001b[0m \u001b[0murllib\u001b[0m\u001b[0;34m.\u001b[0m\u001b[0mrequest\u001b[0m\u001b[0;34m\u001b[0m\u001b[0;34m\u001b[0m\u001b[0m\n\u001b[1;32m      5\u001b[0m \u001b[0;32mimport\u001b[0m \u001b[0mos\u001b[0m\u001b[0;34m\u001b[0m\u001b[0;34m\u001b[0m\u001b[0m\n",
      "\u001b[0;31mModuleNotFoundError\u001b[0m: No module named 'requests'"
     ]
    }
   ],
   "source": [
    "import re\n",
    "import requests\n",
    "from bs4 import BeautifulSoup\n",
    "import urllib.request\n",
    "import os\n",
    "\n",
    "BASE_CHAR_PAGE = 'https://southpark.fandom.com/wiki/Portal:Characters'\n",
    "BASE_DOWNLOAD_PATH = 'data\\southpark\\{number}.{imgformat}'\n",
    "BASE_DOWNLOAD_PATH = os.path.join(os.getcwd(), BASE_DOWNLOAD_PATH)\n",
    "print(BASE_DOWNLOAD_PATH)\n",
    "\n",
    "def download_image(url, current_index, format):\n",
    "    try:\n",
    "        download_path = BASE_DOWNLOAD_PATH.format(number=current_index,imgformat=format)\n",
    "        #print(download_path)\n",
    "        urllib.request.urlretrieve(url, download_path)\n",
    "    except Exception as e:\n",
    "        print(\"couldn't download image \" + url)\n",
    "        print(e)\n",
    "\n",
    "def get_all_image_urls():\n",
    "    all_urls = []\n",
    "    response = requests.get(BASE_CHAR_PAGE)\n",
    "    soup = BeautifulSoup(response.text, 'html.parser')\n",
    "    img_tags = soup.find_all('img')\n",
    "    urls = [img['src'] for img in img_tags]\n",
    "    print(len(urls))\n",
    "    j = 0\n",
    "    for url in urls:\n",
    "        #print(url)\n",
    "        if \"https://static.wikia.nocookie.net/southpark/images\" in url and \"revision\" in url:\n",
    "            short_url = url.split(\"/revision\")[0]\n",
    "            all_urls.append(short_url)\n",
    "            j = j+1\n",
    "    return all_urls\n",
    "\n",
    "def download_all_images():\n",
    "    all_urls = get_all_image_urls()\n",
    "    i = 0\n",
    "    for url in all_urls:\n",
    "        if \"jpeg\" in url:\n",
    "            download_image(url, i, \"jpeg\")\n",
    "        else:\n",
    "            download_image(url, i, \"png\")\n",
    "        i = i + 1\n",
    "\n",
    "\n"
   ]
  }
 ],
 "metadata": {
  "kernelspec": {
   "display_name": "Python 3",
   "language": "python",
   "name": "python3"
  },
  "language_info": {
   "codemirror_mode": {
    "name": "ipython",
    "version": 3
   },
   "file_extension": ".py",
   "mimetype": "text/x-python",
   "name": "python",
   "nbconvert_exporter": "python",
   "pygments_lexer": "ipython3",
   "version": "3.7.3"
  },
  "orig_nbformat": 4,
  "vscode": {
   "interpreter": {
    "hash": "916dbcbb3f70747c44a77c7bcd40155683ae19c65e1c03b4aa3499c5328201f1"
   }
  }
 },
 "nbformat": 4,
 "nbformat_minor": 2
}
