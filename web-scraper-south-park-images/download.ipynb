{
 "cells": [
  {
   "cell_type": "code",
   "execution_count": 27,
   "metadata": {},
   "outputs": [
    {
     "name": "stdout",
     "output_type": "stream",
     "text": [
      "c:\\Study\\Study\\研二\\COMS_E6998\\My_project\\Implementation\\web-scraper-south-park-images\\data\\southpark\\{number}.{imgformat}\n"
     ]
    }
   ],
   "source": [
    "import re\n",
    "import requests\n",
    "from bs4 import BeautifulSoup\n",
    "import urllib.request\n",
    "import os\n",
    "\n",
    "BASE_CHAR_PAGE = 'https://southpark.fandom.com/wiki/Portal:Characters'\n",
    "BASE_DOWNLOAD_PATH = 'web-scraper-south-park-images\\data\\southpark\\{number}.{imgformat}'\n",
    "BASE_DOWNLOAD_PATH = os.path.join(os.getcwd(), BASE_DOWNLOAD_PATH)\n",
    "print(BASE_DOWNLOAD_PATH)\n",
    "\n",
    "def download_image(url, current_index, format):\n",
    "    try:\n",
    "        download_path = BASE_DOWNLOAD_PATH.format(number=current_index,imgformat=format)\n",
    "        #print(download_path)\n",
    "        urllib.request.urlretrieve(url, download_path)\n",
    "    except Exception as e:\n",
    "        print(\"couldn't download image \" + url)\n",
    "        print(e)\n",
    "\n",
    "def get_all_image_urls():\n",
    "    all_urls = []\n",
    "    response = requests.get(BASE_CHAR_PAGE)\n",
    "    soup = BeautifulSoup(response.text, 'html.parser')\n",
    "    img_tags = soup.find_all('img')\n",
    "    urls = [img['src'] for img in img_tags]\n",
    "    print(len(urls))\n",
    "    j = 0\n",
    "    for url in urls:\n",
    "        #print(url)\n",
    "        if \"https://static.wikia.nocookie.net/southpark/images\" in url and \"revision\" in url:\n",
    "            short_url = url.split(\"/revision\")[0]\n",
    "            all_urls.append(short_url)\n",
    "            j = j+1\n",
    "    return all_urls\n",
    "\n",
    "def download_all_images():\n",
    "    all_urls = get_all_image_urls()\n",
    "    i = 0\n",
    "    for url in all_urls:\n",
    "        if \"jpeg\" in url:\n",
    "            download_image(url, i, \"jpeg\")\n",
    "        else:\n",
    "            download_image(url, i, \"png\")\n",
    "        i = i + 1\n",
    "\n",
    "\n"
   ]
  },
  {
   "cell_type": "code",
   "execution_count": 13,
   "metadata": {},
   "outputs": [
    {
     "data": {
      "text/plain": [
       "'c:\\\\Study\\\\Study\\\\研二\\\\COMS_E6998\\\\My_project\\\\Implementation'"
      ]
     },
     "execution_count": 13,
     "metadata": {},
     "output_type": "execute_result"
    }
   ],
   "source": [
    "os.getcwd()"
   ]
  },
  {
   "cell_type": "code",
   "execution_count": 28,
   "metadata": {},
   "outputs": [
    {
     "name": "stdout",
     "output_type": "stream",
     "text": [
      "4127\n",
      "couldn't download image https://static.wikia.nocookie.net/southpark/images/9/94/HumanCentiPad01_press.jpg\n",
      "<urlopen error retrieval incomplete: got only 3112960 out of 4266508 bytes>\n",
      "couldn't download image https://static.wikia.nocookie.net/southpark/images/5/5b/Nelly1.png\n",
      "<urlopen error retrieval incomplete: got only 3338240 out of 4063112 bytes>\n",
      "couldn't download image https://static.wikia.nocookie.net/southpark/images/3/37/Saint_Patrick.png\n",
      "<urlopen error retrieval incomplete: got only 94208 out of 191165 bytes>\n",
      "couldn't download image https://static.wikia.nocookie.net/southpark/images/b/b7/Celebrities-fictional-sandy-cervix.png\n",
      "<urlopen error retrieval incomplete: got only 36864 out of 167547 bytes>\n",
      "couldn't download image https://static.wikia.nocookie.net/southpark/images/6/68/Sidney-poitier.png\n",
      "HTTP Error 504: Gateway Time-out\n",
      "couldn't download image https://static.wikia.nocookie.net/southpark/images/4/4d/Sir-john-harington.png\n",
      "<urlopen error retrieval incomplete: got only 86016 out of 157213 bytes>\n",
      "couldn't download image https://static.wikia.nocookie.net/southpark/images/5/5e/South-park-diggities.png\n",
      "<urlopen error retrieval incomplete: got only 282624 out of 376450 bytes>\n",
      "couldn't download image https://static.wikia.nocookie.net/southpark/images/1/1f/Tina-yothers.png\n",
      "<urlopen error retrieval incomplete: got only 196608 out of 236693 bytes>\n"
     ]
    }
   ],
   "source": [
    "download_all_images()"
   ]
  }
 ],
 "metadata": {
  "kernelspec": {
   "display_name": "Python 3",
   "language": "python",
   "name": "python3"
  },
  "language_info": {
   "codemirror_mode": {
    "name": "ipython",
    "version": 3
   },
   "file_extension": ".py",
   "mimetype": "text/x-python",
   "name": "python",
   "nbconvert_exporter": "python",
   "pygments_lexer": "ipython3",
   "version": "3.10.9 (tags/v3.10.9:1dd9be6, Dec  6 2022, 20:01:21) [MSC v.1934 64 bit (AMD64)]"
  },
  "orig_nbformat": 4,
  "vscode": {
   "interpreter": {
    "hash": "64ded8d26ad4cee1f731816cbcebd9f8874706aa846d49c7a22872f593919c88"
   }
  }
 },
 "nbformat": 4,
 "nbformat_minor": 2
}
